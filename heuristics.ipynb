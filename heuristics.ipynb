{
 "cells": [
  {
   "cell_type": "code",
   "execution_count": 1,
   "id": "33f638ed",
   "metadata": {},
   "outputs": [
    {
     "name": "stderr",
     "output_type": "stream",
     "text": [
      "/Users/espen/Desktop/masteroppgave_uten_chat/.venv/lib/python3.12/site-packages/tqdm/auto.py:21: TqdmWarning: IProgress not found. Please update jupyter and ipywidgets. See https://ipywidgets.readthedocs.io/en/stable/user_install.html\n",
      "  from .autonotebook import tqdm as notebook_tqdm\n"
     ]
    }
   ],
   "source": [
    "from Cpp_code.former_class_cpp import FormerGame\n",
    "from heuristics import play_game_with_minimizing_groups, play_game_choosing_largest_group, play_game_randomly, play_game_with_minimizing_groups\n",
    "import numpy as np\n",
    "import matplotlib.pyplot as plt\n",
    "import daily_board as db\n",
    "import time\n",
    "import pandas as pd\n",
    "from figure_functions import plot_heuristic_distributions"
   ]
  },
  {
   "cell_type": "markdown",
   "id": "88f3e027",
   "metadata": {},
   "source": [
    "# 6.1: Self-made heuristics\n",
    "\n",
    "Here is code used to measure heuristic performance."
   ]
  },
  {
   "cell_type": "code",
   "execution_count": 3,
   "id": "5cd42c2b",
   "metadata": {},
   "outputs": [
    {
     "name": "stdout",
     "output_type": "stream",
     "text": [
      "Board 0/1000\n"
     ]
    },
    {
     "ename": "KeyboardInterrupt",
     "evalue": "",
     "output_type": "error",
     "traceback": [
      "\u001b[31m---------------------------------------------------------------------------\u001b[39m",
      "\u001b[31mKeyboardInterrupt\u001b[39m                         Traceback (most recent call last)",
      "\u001b[36mCell\u001b[39m\u001b[36m \u001b[39m\u001b[32mIn[3]\u001b[39m\u001b[32m, line 43\u001b[39m\n\u001b[32m     40\u001b[39m times_min_groups_2[n] = t1 - t0\n\u001b[32m     42\u001b[39m t0 = time.time()\n\u001b[32m---> \u001b[39m\u001b[32m43\u001b[39m moves_min_groups_3[n] = \u001b[43mplay_game_with_minimizing_groups\u001b[49m\u001b[43m(\u001b[49m\u001b[43mboard\u001b[49m\u001b[43m,\u001b[49m\u001b[43m \u001b[49m\u001b[43mT\u001b[49m\u001b[43m=\u001b[49m\u001b[32;43m3\u001b[39;49m\u001b[43m)\u001b[49m[\u001b[32m0\u001b[39m]\n\u001b[32m     44\u001b[39m t1 = time.time()\n\u001b[32m     45\u001b[39m times_min_groups_3[n] = t1 - t0\n",
      "\u001b[36mFile \u001b[39m\u001b[32m~/Desktop/masteroppgave_uten_chat/heuristics.py:136\u001b[39m, in \u001b[36mplay_game_with_minimizing_groups\u001b[39m\u001b[34m(board_init, T)\u001b[39m\n\u001b[32m    134\u001b[39m \u001b[38;5;28;01mwhile\u001b[39;00m \u001b[38;5;129;01mnot\u001b[39;00m game.is_game_over():\n\u001b[32m    135\u001b[39m     groups_remaining = \u001b[38;5;28mlen\u001b[39m(game.get_groups())\n\u001b[32m--> \u001b[39m\u001b[32m136\u001b[39m     best_point = \u001b[43mfind_point_minimizing_groups_static\u001b[49m\u001b[43m(\u001b[49m\u001b[43mcopy\u001b[49m\u001b[43m.\u001b[49m\u001b[43mdeepcopy\u001b[49m\u001b[43m(\u001b[49m\u001b[43mgame\u001b[49m\u001b[43m.\u001b[49m\u001b[43mboard\u001b[49m\u001b[43m)\u001b[49m\u001b[43m,\u001b[49m\u001b[43m \u001b[49m\u001b[43mT\u001b[49m\u001b[43m)\u001b[49m[\u001b[32m1\u001b[39m]\n\u001b[32m    137\u001b[39m     \u001b[38;5;28;01mif\u001b[39;00m best_point \u001b[38;5;129;01mis\u001b[39;00m \u001b[38;5;28;01mNone\u001b[39;00m:\n\u001b[32m    138\u001b[39m         \u001b[38;5;28;01mbreak\u001b[39;00m\n",
      "\u001b[36mFile \u001b[39m\u001b[32m~/Desktop/masteroppgave_uten_chat/heuristics.py:89\u001b[39m, in \u001b[36mfind_point_minimizing_groups_static\u001b[39m\u001b[34m(board, T)\u001b[39m\n\u001b[32m     87\u001b[39m \u001b[38;5;66;03m# Find the action that minimizes the number of groups T-1 moves ahead (recursively)\u001b[39;00m\n\u001b[32m     88\u001b[39m \u001b[38;5;28;01mif\u001b[39;00m T > \u001b[32m1\u001b[39m:\n\u001b[32m---> \u001b[39m\u001b[32m89\u001b[39m     future_score, _ = \u001b[43mfind_point_minimizing_groups_static\u001b[49m\u001b[43m(\u001b[49m\u001b[43mnext_board\u001b[49m\u001b[43m,\u001b[49m\u001b[43m \u001b[49m\u001b[43mT\u001b[49m\u001b[43m-\u001b[49m\u001b[32;43m1\u001b[39;49m\u001b[43m)\u001b[49m\n\u001b[32m     90\u001b[39m     score = future_score + (g1,)\n\u001b[32m     91\u001b[39m \u001b[38;5;28;01melse\u001b[39;00m:\n",
      "\u001b[36mFile \u001b[39m\u001b[32m~/Desktop/masteroppgave_uten_chat/heuristics.py:89\u001b[39m, in \u001b[36mfind_point_minimizing_groups_static\u001b[39m\u001b[34m(board, T)\u001b[39m\n\u001b[32m     87\u001b[39m \u001b[38;5;66;03m# Find the action that minimizes the number of groups T-1 moves ahead (recursively)\u001b[39;00m\n\u001b[32m     88\u001b[39m \u001b[38;5;28;01mif\u001b[39;00m T > \u001b[32m1\u001b[39m:\n\u001b[32m---> \u001b[39m\u001b[32m89\u001b[39m     future_score, _ = \u001b[43mfind_point_minimizing_groups_static\u001b[49m\u001b[43m(\u001b[49m\u001b[43mnext_board\u001b[49m\u001b[43m,\u001b[49m\u001b[43m \u001b[49m\u001b[43mT\u001b[49m\u001b[43m-\u001b[49m\u001b[32;43m1\u001b[39;49m\u001b[43m)\u001b[49m\n\u001b[32m     90\u001b[39m     score = future_score + (g1,)\n\u001b[32m     91\u001b[39m \u001b[38;5;28;01melse\u001b[39;00m:\n",
      "\u001b[36mFile \u001b[39m\u001b[32m~/Desktop/masteroppgave_uten_chat/heuristics.py:73\u001b[39m, in \u001b[36mfind_point_minimizing_groups_static\u001b[39m\u001b[34m(board, T)\u001b[39m\n\u001b[32m     70\u001b[39m     board_list = board\n\u001b[32m     72\u001b[39m raw_actions = FormerGame.get_valid_turns_static(board_list)\n\u001b[32m---> \u001b[39m\u001b[32m73\u001b[39m valid_actions = [\u001b[43m_normalize_point\u001b[49m\u001b[43m(\u001b[49m\u001b[43ma\u001b[49m\u001b[43m)\u001b[49m \u001b[38;5;28;01mfor\u001b[39;00m a \u001b[38;5;129;01min\u001b[39;00m raw_actions]\n\u001b[32m     74\u001b[39m current_groups = \u001b[38;5;28mlen\u001b[39m(FormerGame.get_groups_static(board_list))\n\u001b[32m     76\u001b[39m \u001b[38;5;28;01mif\u001b[39;00m \u001b[38;5;129;01mnot\u001b[39;00m valid_actions:\n",
      "\u001b[36mFile \u001b[39m\u001b[32m~/Desktop/masteroppgave_uten_chat/heuristics.py:59\u001b[39m, in \u001b[36m_normalize_point\u001b[39m\u001b[34m(pt)\u001b[39m\n\u001b[32m     57\u001b[39m         x = x[\u001b[32m0\u001b[39m]\n\u001b[32m     58\u001b[39m     \u001b[38;5;28;01mreturn\u001b[39;00m \u001b[38;5;28mint\u001b[39m(x)\n\u001b[32m---> \u001b[39m\u001b[32m59\u001b[39m \u001b[38;5;28;01mreturn\u001b[39;00m (\u001b[43mto_int\u001b[49m\u001b[43m(\u001b[49m\u001b[43mr\u001b[49m\u001b[43m)\u001b[49m, to_int(c))\n",
      "\u001b[36mFile \u001b[39m\u001b[32m~/Desktop/masteroppgave_uten_chat/heuristics.py:54\u001b[39m, in \u001b[36m_normalize_point.<locals>.to_int\u001b[39m\u001b[34m(x)\u001b[39m\n\u001b[32m     53\u001b[39m \u001b[38;5;28;01mdef\u001b[39;00m\u001b[38;5;250m \u001b[39m\u001b[34mto_int\u001b[39m(x):\n\u001b[32m---> \u001b[39m\u001b[32m54\u001b[39m     \u001b[38;5;28;01mif\u001b[39;00m \u001b[38;5;28;43mhasattr\u001b[39;49m\u001b[43m(\u001b[49m\u001b[43mx\u001b[49m\u001b[43m,\u001b[49m\u001b[43m \u001b[49m\u001b[33;43m\"\u001b[39;49m\u001b[33;43mitem\u001b[39;49m\u001b[33;43m\"\u001b[39;49m\u001b[43m)\u001b[49m:\n\u001b[32m     55\u001b[39m         x = x.item()\n\u001b[32m     56\u001b[39m     \u001b[38;5;28;01mif\u001b[39;00m \u001b[38;5;28misinstance\u001b[39m(x, (\u001b[38;5;28mlist\u001b[39m, \u001b[38;5;28mtuple\u001b[39m)) \u001b[38;5;129;01mand\u001b[39;00m \u001b[38;5;28mlen\u001b[39m(x) == \u001b[32m1\u001b[39m:\n",
      "\u001b[31mKeyboardInterrupt\u001b[39m: "
     ]
    }
   ],
   "source": [
    "# Test on n_boards boards\n",
    "n_boards = 1000\n",
    "np.random.seed(22)\n",
    "boards = np.random.randint(0,4, (n_boards, 9, 7))\n",
    "\n",
    "moves_random = np.zeros(n_boards)\n",
    "moves_largest_group = np.zeros(n_boards)\n",
    "moves_min_groups_1 = np.zeros(n_boards)\n",
    "moves_min_groups_2 = np.zeros(n_boards)\n",
    "moves_min_groups_3 = np.zeros(n_boards)\n",
    "\n",
    "times_random = np.zeros(n_boards)\n",
    "times_largest_group = np.zeros(n_boards)\n",
    "times_min_groups_1 = np.zeros(n_boards)\n",
    "times_min_groups_2 = np.zeros(n_boards)\n",
    "times_min_groups_3 = np.zeros(n_boards)\n",
    "\n",
    "for n in range(n_boards):\n",
    "    board = boards[n]\n",
    "    if n % 50 == 0:\n",
    "        print(f\"Board {n}/{n_boards}\")\n",
    "    t0 = time.time()\n",
    "    moves_random[n] = play_game_randomly(board)\n",
    "    t1 = time.time()\n",
    "    times_random[n] = t1 - t0\n",
    "    \n",
    "    t0 = time.time()\n",
    "    moves_largest_group[n] = play_game_choosing_largest_group(board)\n",
    "    t1 = time.time()\n",
    "    times_largest_group[n] = t1 - t0\n",
    "    \n",
    "    t0 = time.time()\n",
    "    moves_min_groups_1[n] = play_game_with_minimizing_groups(board, T=1)[0]\n",
    "    t1 = time.time()\n",
    "    times_min_groups_1[n] = t1 - t0\n",
    "\n",
    "    t0 = time.time()\n",
    "    moves_min_groups_2[n] = play_game_with_minimizing_groups(board, T=2)[0]\n",
    "    t1 = time.time()\n",
    "    times_min_groups_2[n] = t1 - t0\n",
    "    \n",
    "    t0 = time.time()\n",
    "    moves_min_groups_3[n] = play_game_with_minimizing_groups(board, T=3)[0]\n",
    "    t1 = time.time()\n",
    "    times_min_groups_3[n] = t1 - t0"
   ]
  },
  {
   "cell_type": "code",
   "execution_count": null,
   "id": "310cfd02",
   "metadata": {},
   "outputs": [
    {
     "name": "stdout",
     "output_type": "stream",
     "text": [
      "        Method  Moves_Mean  Moves_Std  Time_Mean  Time_Std\n",
      " Largest group      24.994   4.169574   0.000606  0.000100\n",
      "Min groups (1)      18.536   2.635080   0.005742  0.001256\n",
      "Min groups (2)      16.214   1.912030   0.109964  0.031994\n",
      "Min groups (3)      15.478   1.796871   2.840983  1.107242\n",
      "        Random      28.670   3.719265   0.000743  0.000107\n"
     ]
    }
   ],
   "source": [
    "# Save results and print table\n",
    "df = pd.DataFrame({\n",
    "    'Method': ['Random'] * n_boards +\n",
    "              ['Largest group'] * n_boards +\n",
    "              ['Min groups (1)'] * n_boards +\n",
    "              ['Min groups (2)'] * n_boards +\n",
    "              ['Min groups (3)'] * n_boards,\n",
    "    'Moves': np.concatenate([moves_random, moves_largest_group, moves_min_groups_1, moves_min_groups_2, moves_min_groups_3]),\n",
    "    'Time': np.concatenate([times_random, times_largest_group, times_min_groups_1, times_min_groups_2, times_min_groups_3])\n",
    "})\n",
    "\n",
    "csv_path = '/Users/espen/Desktop/masteroppgave_uten_chat/results/6.1_selfmade/selfmade.csv'\n",
    "df.to_csv(csv_path, index=False)\n",
    "\n",
    "csv_path = '/Users/espen/Desktop/masteroppgave_uten_chat/results/6.1_selfmade/selfmade.csv'\n",
    "df_loaded = pd.read_csv(csv_path)\n",
    "\n",
    "summary = df_loaded.groupby('Method').agg(\n",
    "    Moves_Mean=('Moves', 'mean'),\n",
    "    Moves_Std=('Moves', 'std'),\n",
    "    Time_Mean=('Time', 'mean'),\n",
    "    Time_Std=('Time', 'std')\n",
    ").reset_index()\n",
    "\n",
    "print(summary.to_string(index=False))"
   ]
  },
  {
   "cell_type": "code",
   "execution_count": 5,
   "id": "2ded5a74",
   "metadata": {},
   "outputs": [
    {
     "data": {
      "image/png": "[encoded data removed]",
      "text/plain": [
       "<Figure size 750x400 with 1 Axes>"
      ]
     },
     "metadata": {},
     "output_type": "display_data"
    }
   ],
   "source": [
    "plot_heuristic_distributions(show=True)"
   ]
  },
  {
   "cell_type": "code",
   "execution_count": 2,
   "id": "af27dcd6",
   "metadata": {},
   "outputs": [
    {
     "name": "stdout",
     "output_type": "stream",
     "text": [
      "Board 0/100\n",
      "Board 10/100\n",
      "Board 20/100\n",
      "Board 30/100\n",
      "Board 40/100\n",
      "Board 50/100\n",
      "Board 60/100\n",
      "Board 70/100\n",
      "Board 80/100\n",
      "Board 90/100\n"
     ]
    }
   ],
   "source": [
    "# Test on daily boards\n",
    "# Test on n_boards boards\n",
    "n_boards = 100\n",
    "boards = np.random.randint(0,4, (n_boards, 9, 7))\n",
    "\n",
    "moves_random = np.zeros(n_boards)\n",
    "moves_largest_group = np.zeros(n_boards)\n",
    "moves_min_groups_1 = np.zeros(n_boards)\n",
    "moves_min_groups_2 = np.zeros(n_boards)\n",
    "moves_min_groups_3 = np.zeros(n_boards)\n",
    "\n",
    "times_random = np.zeros(n_boards)\n",
    "times_largest_group = np.zeros(n_boards)\n",
    "times_min_groups_1 = np.zeros(n_boards)\n",
    "times_min_groups_2 = np.zeros(n_boards)\n",
    "times_min_groups_3 = np.zeros(n_boards)\n",
    "\n",
    "board_tuples = db.get_daily_board()\n",
    "n = 0\n",
    "for key, board_tuple in board_tuples.items():\n",
    "    board = board_tuple[0]\n",
    "    if n % 10 == 0:\n",
    "        print(f\"Board {n}/{n_boards}\")\n",
    "    t0 = time.time()\n",
    "    moves_random[n] = play_game_randomly(board)\n",
    "    t1 = time.time()\n",
    "    times_random[n] = t1 - t0\n",
    "    \n",
    "    t0 = time.time()\n",
    "    moves_largest_group[n] = play_game_choosing_largest_group(board)\n",
    "    t1 = time.time()\n",
    "    times_largest_group[n] = t1 - t0\n",
    "    \n",
    "    t0 = time.time()\n",
    "    moves_min_groups_1[n] = play_game_with_minimizing_groups(board, T=1)[0]\n",
    "    t1 = time.time()\n",
    "    times_min_groups_1[n] = t1 - t0\n",
    "\n",
    "    t0 = time.time()\n",
    "    moves_min_groups_2[n] = play_game_with_minimizing_groups(board, T=2)[0]\n",
    "    t1 = time.time()\n",
    "    times_min_groups_2[n] = t1 - t0\n",
    "    \n",
    "    t0 = time.time()\n",
    "    moves_min_groups_3[n] = play_game_with_minimizing_groups(board, T=3)[0]\n",
    "    t1 = time.time()\n",
    "    times_min_groups_3[n] = t1 - t0\n",
    "    \n",
    "    n += 1"
   ]
  },
  {
   "cell_type": "code",
   "execution_count": 5,
   "id": "7178e28a",
   "metadata": {},
   "outputs": [
    {
     "name": "stdout",
     "output_type": "stream",
     "text": [
      "Deviation      0   1   2   3   4   5   6   7   8   9   10\n",
      "Model                                                    \n",
      "Random          0   0   0   0   0   0   1   1   1   2   6\n",
      "LargestGroup    0   0   1   0   0   0   4   6   9   9  12\n",
      "MinGroups T=1   0   4   9  13  23  14  11  15   7   2   2\n",
      "MinGroups T=2   2  23  25  31  13   3   2   1   0   0   0\n",
      "MinGroups T=3  10  26  37  15   7   3   2   0   0   0   0\n"
     ]
    }
   ],
   "source": [
    "best_actual_sols = [bt[1] for _, bt in db.get_daily_board().items()]\n",
    "best = np.array(best_actual_sols)\n",
    "\n",
    "# === 2) Put each model’s move‐counts into a dict ===\n",
    "models = {\n",
    "    \"Random\":           moves_random,\n",
    "    \"LargestGroup\":     moves_largest_group,\n",
    "    \"MinGroups T=1\":    moves_min_groups_1,\n",
    "    \"MinGroups T=2\":    moves_min_groups_2,\n",
    "    \"MinGroups T=3\":    moves_min_groups_3,\n",
    "}\n",
    "\n",
    "# === 3) For each model, count how many boards have deviation d=0,…,10 ===\n",
    "# (if a model’s deviation exceeds 10, it’ll simply be “>10”, but here we only collect 0…10)\n",
    "deviation_range = range(0, 11)  # 0 through 10\n",
    "table_data = {}\n",
    "\n",
    "for name, moves in models.items():\n",
    "    diffs = np.abs(moves - best).astype(int)\n",
    "    # Count how many boards have exactly deviation d, for d=0..10\n",
    "    counts = [np.sum(diffs == d) for d in deviation_range]\n",
    "    table_data[name] = counts\n",
    "\n",
    "# === 4) Build a DataFrame so that “Model” is on the y‐axis (index) and deviations on the columns ===\n",
    "df = pd.DataFrame(table_data, index=deviation_range).T\n",
    "df.index.name = \"Model\"\n",
    "df.columns.name = \"Deviation\"\n",
    "\n",
    "print(df)\n"
   ]
  },
  {
   "cell_type": "code",
   "execution_count": null,
   "id": "3fa1a229",
   "metadata": {},
   "outputs": [],
   "source": []
  }
 ],
 "metadata": {
  "kernelspec": {
   "display_name": ".venv",
   "language": "python",
   "name": "python3"
  },
  "language_info": {
   "codemirror_mode": {
    "name": "ipython",
    "version": 3
   },
   "file_extension": ".py",
   "mimetype": "text/x-python",
   "name": "python",
   "nbconvert_exporter": "python",
   "pygments_lexer": "ipython3",
   "version": "3.12.7"
  }
 },
 "nbformat": 4,
 "nbformat_minor": 5
}
